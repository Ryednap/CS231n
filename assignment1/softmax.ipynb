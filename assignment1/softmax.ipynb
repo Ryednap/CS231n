{
 "cells": [
  {
   "cell_type": "code",
   "execution_count": 1,
   "metadata": {
    "collapsed": true,
    "ExecuteTime": {
     "end_time": "2023-06-03T08:05:01.911432200Z",
     "start_time": "2023-06-03T08:05:01.634688800Z"
    }
   },
   "outputs": [
    {
     "name": "stdout",
     "output_type": "stream",
     "text": [
      "Running on windows\n",
      "D:\\Deep Learning\\Stanford CS231n\\assignment1\\src\\datasets\n",
      "\n",
      "(deepenv) D:\\Deep Learning\\Stanford CS231n\\assignment1\\src\\datasets>IF NOT EXIST \"cifar-10-batches-py\" (\n",
      "certutil -urlcache -split -f \"http://www.cs.toronto.edu/~kriz/cifar-10-python.tar.gz\" cifar-10-python.tar.gz  \n",
      " tar -xzvf cifar-10-python.tar.gz  \n",
      " del cifar-10-python.tar.gz \n",
      ") \n",
      "D:\\Deep Learning\\Stanford CS231n\\assignment1\\src\n"
     ]
    }
   ],
   "source": [
    "import sys\n",
    "import platform\n",
    "sys.path.append('./src/')\n",
    "\n",
    "if platform.system() == \"Windows\":\n",
    "    print(\"Running on windows\")\n",
    "\n",
    "    %cd ./src/datasets\n",
    "    !cmd /C get_datasets.cmd\n",
    "    %cd ..\n",
    "else:\n",
    "    print(\"Running on Mac or linux\")\n",
    "\n",
    "    %cd ./src/datasets\n",
    "    !bash get_datastets.sh\n",
    "    %cd .."
   ]
  },
  {
   "cell_type": "markdown",
   "source": [
    "# Softmax exercise\n",
    "\n",
    "*Complete and hand in this completed worksheet (including its outputs and any supporting code outside the worksheet) with your assignment submission. For more details see the [assignments page](http://vision.stanford.edu/teaching/cs231n/assignments.html) on the course website.*\n",
    "\n",
    "This exercise is analogous to the SVM exercise. You will:\n",
    "\n",
    "- implement a fully-vectorized **loss function** for the Softmax classifier\n",
    "- implement the fully-vectorized expression for its **analytic gradient**\n",
    "- **check your implementation** with numerical gradient\n",
    "- use a validation set to **tune the learning rate and regularization** strength\n",
    "- **optimize** the loss function with **SGD**\n",
    "- **visualize** the final learned weights\n"
   ],
   "metadata": {
    "collapsed": false
   }
  },
  {
   "cell_type": "code",
   "execution_count": 2,
   "outputs": [],
   "source": [
    "# Run some setup for this notebook.\n",
    "\n",
    "import random\n",
    "import numpy as np\n",
    "from src.data_utils import load_CIFAR10\n",
    "import matplotlib.pyplot as plt\n",
    "\n",
    "# This is a bit of magic to make matplotlib figures appear inline in the notebook\n",
    "# rather than in a new window\n",
    "%matplotlib inline\n",
    "plt.rcParams['figure.figsize'] = (10.0, 8.0) # set the default size of plots\n",
    "plt.rcParams['image.interpolation'] = 'nearest'\n",
    "plt.rcParams['image.cmap'] = 'gray'\n",
    "\n",
    "# Some more magic so that the notebook will reload external python modules;\n",
    "# see http://stackoverflow.com/questions/1907993/autoreload-of-modules-in-ipython\n",
    "%load_ext autoreload\n",
    "%autoreload 2\n",
    "from IPython.core.ultratb import VerboseTB\n",
    "VerboseTB._tb_highlight = \"bg:#039dfc\""
   ],
   "metadata": {
    "collapsed": false,
    "ExecuteTime": {
     "end_time": "2023-06-03T08:05:37.297508900Z",
     "start_time": "2023-06-03T08:05:33.479578200Z"
    }
   }
  },
  {
   "cell_type": "markdown",
   "source": [
    "## CIFAR-10 Data Loading and Preprocessing"
   ],
   "metadata": {
    "collapsed": false
   }
  },
  {
   "cell_type": "code",
   "execution_count": 3,
   "outputs": [
    {
     "name": "stdout",
     "output_type": "stream",
     "text": [
      "Training data shape:  (50000, 32, 32, 3)\n",
      "Training labels shape:  (50000,)\n",
      "Test data shape:  (10000, 32, 32, 3)\n",
      "Test labels shape:  (10000,)\n"
     ]
    }
   ],
   "source": [
    "#Load the raw CIFAR-10 data.\n",
    "cifar10_dir = 'datasets/cifar-10-batches-py'\n",
    "\n",
    "X_train = y_train = X_test = y_test = None\n",
    "X_train, y_train, X_test, y_test = load_CIFAR10(cifar10_dir)\n",
    "\n",
    "# As a sanity check, we print out the size of the training and test data.\n",
    "print('Training data shape: ', X_train.shape)\n",
    "print('Training labels shape: ', y_train.shape)\n",
    "print('Test data shape: ', X_test.shape)\n",
    "print('Test labels shape: ', y_test.shape)"
   ],
   "metadata": {
    "collapsed": false,
    "ExecuteTime": {
     "end_time": "2023-06-03T08:05:41.236505400Z",
     "start_time": "2023-06-03T08:05:37.292522300Z"
    }
   }
  },
  {
   "cell_type": "code",
   "execution_count": 4,
   "outputs": [
    {
     "name": "stdout",
     "output_type": "stream",
     "text": [
      "Train data shape:  (49000, 32, 32, 3)\n",
      "Train labels shape:  (49000,)\n",
      "Validation data shape:  (1000, 32, 32, 3)\n",
      "Validation labels shape:  (1000,)\n",
      "Test data shape:  (10000, 32, 32, 3)\n",
      "Test labels shape:  (10000,)\n"
     ]
    }
   ],
   "source": [
    "# Split the data into train, validation, and test sets. In addition, we will\n",
    "# create a small development set as a subset of the training set;\n",
    "# we can use this for development, so our code runs faster.\n",
    "num_training = 49000\n",
    "num_validation = 1000\n",
    "num_test = 1000\n",
    "num_dev = 500\n",
    "\n",
    "# Our Validation set will be num_validation points from the original training set.\n",
    "mask = range(num_training, num_training + num_validation)\n",
    "X_val = X_train[mask]\n",
    "y_val = y_train[mask]\n",
    "\n",
    "# Our training set will be the first num_train points from the original training set.\n",
    "mask = range(num_training)\n",
    "X_train = X_train[mask]\n",
    "y_train = y_train[mask]\n",
    "\n",
    "# We will also make a development set, which is a small subset of the training set.\n",
    "mask = np.random.choice(num_training, num_dev, replace=False)\n",
    "X_dev = X_train[mask]\n",
    "y_dev = y_train[mask]\n",
    "\n",
    "print('Train data shape: ', X_train.shape)\n",
    "print('Train labels shape: ', y_train.shape)\n",
    "print('Validation data shape: ', X_val.shape)\n",
    "print('Validation labels shape: ', y_val.shape)\n",
    "print('Test data shape: ', X_test.shape)\n",
    "print('Test labels shape: ', y_test.shape)"
   ],
   "metadata": {
    "collapsed": false,
    "ExecuteTime": {
     "end_time": "2023-06-03T08:05:41.737192800Z",
     "start_time": "2023-06-03T08:05:41.239496400Z"
    }
   }
  },
  {
   "cell_type": "code",
   "execution_count": 5,
   "outputs": [
    {
     "name": "stdout",
     "output_type": "stream",
     "text": [
      "Training data shape:  (49000, 3072)\n",
      "Validation data shape:  (1000, 3072)\n",
      "Test data shape:  (10000, 3072)\n",
      "dev data shape:  (500, 3072)\n"
     ]
    }
   ],
   "source": [
    "# Preprocessing: reshape the image data into rows\n",
    "X_train = np.reshape(X_train, (X_train.shape[0], -1))\n",
    "X_val = np.reshape(X_val, (X_val.shape[0], -1))\n",
    "X_test = np.reshape(X_test, (X_test.shape[0], -1))\n",
    "X_dev = np.reshape(X_dev, (X_dev.shape[0], -1))\n",
    "\n",
    "# As a sanity check, print out the shapes of the data\n",
    "print('Training data shape: ', X_train.shape)\n",
    "print('Validation data shape: ', X_val.shape)\n",
    "print('Test data shape: ', X_test.shape)\n",
    "print('dev data shape: ', X_dev.shape)"
   ],
   "metadata": {
    "collapsed": false,
    "ExecuteTime": {
     "end_time": "2023-06-03T08:05:44.453903300Z",
     "start_time": "2023-06-03T08:05:41.739178700Z"
    }
   }
  },
  {
   "cell_type": "code",
   "execution_count": 6,
   "outputs": [
    {
     "name": "stdout",
     "output_type": "stream",
     "text": [
      "[130.64189796 135.98173469 132.47391837 130.05569388 135.34804082\n",
      " 131.75402041 130.96055102 136.14328571 132.47636735 131.48467347]\n"
     ]
    },
    {
     "data": {
      "text/plain": "<Figure size 400x400 with 1 Axes>",
      "image/png": "[encoded data removed]"
     },
     "metadata": {},
     "output_type": "display_data"
    },
    {
     "name": "stdout",
     "output_type": "stream",
     "text": [
      "(49000, 3073) (1000, 3073) (10000, 3073) (500, 3073)\n"
     ]
    }
   ],
   "source": [
    "# Preprocessing: Mean centering, i.e., subtract the mean image\n",
    "\n",
    "# First: compute the image mean based on the training data\n",
    "mean_image = np.mean(X_train, axis=0)\n",
    "print(mean_image[: 10])  # print a few of the elements\n",
    "plt.figure(figsize=(4, 4))\n",
    "plt.imshow(mean_image.reshape((32, 32, 3)).astype('uint8'))  # visualize the mean image\n",
    "plt.show()\n",
    "\n",
    "# Second: subtract the mean image from train and test data\n",
    "X_train -= mean_image\n",
    "X_val -= mean_image\n",
    "X_test -= mean_image\n",
    "X_dev -= mean_image\n",
    "\n",
    "# Third: append the bias dimension of ones (i.e., bias trick) so that our SVM\n",
    "# only has to worry about optimizing a single weight matrix of W.\n",
    "X_train = np.hstack([X_train, np.ones((X_train.shape[0], 1))])\n",
    "X_val = np.hstack([X_val, np.ones((X_val.shape[0], 1))])\n",
    "X_test = np.hstack([X_test, np.ones((X_test.shape[0], 1))])\n",
    "X_dev = np.hstack([X_dev, np.ones((X_dev.shape[0], 1))])\n",
    "\n",
    "print(X_train.shape, X_val.shape, X_test.shape, X_dev.shape)"
   ],
   "metadata": {
    "collapsed": false,
    "ExecuteTime": {
     "end_time": "2023-06-03T08:05:44.496788100Z",
     "start_time": "2023-06-03T08:05:44.453903300Z"
    }
   }
  },
  {
   "cell_type": "markdown",
   "source": [
    "## Softmax Classifier\n",
    "\n",
    "Your code for this section will all be written inside **`src/classifiers/softmax.py`**.\n"
   ],
   "metadata": {
    "collapsed": false
   }
  },
  {
   "cell_type": "code",
   "execution_count": 9,
   "outputs": [
    {
     "name": "stdout",
     "output_type": "stream",
     "text": [
      "loss: 2.324533\n",
      "sanity check: 2.302585\n"
     ]
    }
   ],
   "source": [
    "# First implement the naive softmax loss function with nested loops.\n",
    "# Open the file cs231n/classifiers/softmax.py and implement the\n",
    "# softmax_loss_naive function.\n",
    "\n",
    "from src.classifiers.softmax import softmax_loss_naive\n",
    "import time\n",
    "\n",
    "# Generate a random softmax weight matrix and use it to compute the loss.\n",
    "W = np.random.randn(3073, 10) * 0.0001\n",
    "loss, grad = softmax_loss_naive(W, X_dev, y_dev, 0.0)\n",
    "\n",
    "# As a rough sanity check, our loss should be something close to -log(0.1).\n",
    "print('loss: %f' % loss)\n",
    "print('sanity check: %f' % (-np.log(0.1)))"
   ],
   "metadata": {
    "collapsed": false,
    "ExecuteTime": {
     "end_time": "2023-06-03T09:15:24.684902100Z",
     "start_time": "2023-06-03T09:15:23.719428Z"
    }
   }
  },
  {
   "cell_type": "markdown",
   "source": [
    "**Inline Question 1**\n",
    "\n",
    "Why do we expect our loss to be close to -log(0.1)? Explain briefly.**\n",
    "\n",
    "$\\textcolor{yellow}{\\textit Your Answer:}$ *Softmax represents a negative likelihood probability of the correct class. If we assume equally likely, then the likelihood of correct class becomes $-log(\\frac{1}{10})$ = -log(0.1)*\n",
    "\n"
   ],
   "metadata": {
    "collapsed": false
   }
  },
  {
   "cell_type": "code",
   "execution_count": 13,
   "outputs": [
    {
     "name": "stdout",
     "output_type": "stream",
     "text": [
      "numerical: -0.629961 analytic: -0.629961, relative error: 5.989252e-08\n",
      "numerical: 0.327567 analytic: 0.327567, relative error: 1.853809e-07\n",
      "numerical: 0.323795 analytic: 0.323795, relative error: 7.594886e-08\n",
      "numerical: -1.157208 analytic: -1.157208, relative error: 1.255089e-08\n",
      "numerical: -0.341750 analytic: -0.341750, relative error: 9.868866e-08\n",
      "numerical: -0.715988 analytic: -0.715988, relative error: 2.344973e-08\n",
      "numerical: -2.302511 analytic: -2.302511, relative error: 8.672975e-10\n",
      "numerical: -3.306498 analytic: -3.306498, relative error: 4.647349e-09\n",
      "numerical: 2.608698 analytic: 2.608698, relative error: 2.795046e-08\n",
      "numerical: -0.311179 analytic: -0.311179, relative error: 6.622436e-08\n",
      "numerical: -2.629440 analytic: -2.629440, relative error: 3.236887e-09\n",
      "numerical: 1.039237 analytic: 1.039237, relative error: 3.153414e-08\n",
      "numerical: -1.832006 analytic: -1.832006, relative error: 1.629286e-08\n",
      "numerical: -0.020232 analytic: -0.020232, relative error: 4.817591e-07\n",
      "numerical: 2.972213 analytic: 2.972213, relative error: 2.692644e-08\n"
     ]
    }
   ],
   "source": [
    "# Complete the implementation of softmax_loss_naive and implement a (naive) version\n",
    "# of the gradient that uses nested loops.\n",
    "loss, grad = softmax_loss_naive(W, X_dev, y_dev, 0.0)\n",
    "\n",
    "# As we did for the SVM, use numerical gradient checking as a debugging tool.\n",
    "# The numerical gradient should be close to the analytic gradient.\n",
    "from src.gradient_check import  grad_check_sparse\n",
    "f = lambda w: softmax_loss_naive(w, X_dev, y_dev, 0.0)[0]\n",
    "grad_check_sparse(f, W, grad, num_checks=15)"
   ],
   "metadata": {
    "collapsed": false,
    "ExecuteTime": {
     "end_time": "2023-06-03T09:17:16.693644800Z",
     "start_time": "2023-06-03T09:17:06.393116100Z"
    }
   }
  },
  {
   "cell_type": "code",
   "execution_count": 14,
   "outputs": [
    {
     "name": "stdout",
     "output_type": "stream",
     "text": [
      "numerical: -0.638437 analytic: -0.638437, relative error: 3.518771e-08\n",
      "numerical: 1.657251 analytic: 1.657251, relative error: 8.174295e-09\n",
      "numerical: 0.377920 analytic: 0.377920, relative error: 2.095596e-08\n",
      "numerical: 2.164293 analytic: 2.164293, relative error: 4.741710e-09\n",
      "numerical: -0.730912 analytic: -0.730913, relative error: 4.113376e-08\n",
      "numerical: 0.763895 analytic: 0.763895, relative error: 6.485724e-08\n",
      "numerical: 0.086294 analytic: 0.086294, relative error: 7.603680e-07\n",
      "numerical: -4.627797 analytic: -4.627797, relative error: 1.061601e-08\n",
      "numerical: -0.826618 analytic: -0.826618, relative error: 1.217491e-08\n",
      "numerical: 1.612303 analytic: 1.612302, relative error: 2.232974e-08\n"
     ]
    }
   ],
   "source": [
    "# similar to SVM case, do another gradient check with regularization\n",
    "loss, grad = softmax_loss_naive(W, X_dev, y_dev, 5e1)\n",
    "f = lambda w: softmax_loss_naive(w, X_dev, y_dev, 5e1)[0]\n",
    "grad_check_sparse(f, W, grad, 10)"
   ],
   "metadata": {
    "collapsed": false,
    "ExecuteTime": {
     "end_time": "2023-06-03T09:17:29.174591300Z",
     "start_time": "2023-06-03T09:17:21.303308200Z"
    }
   }
  },
  {
   "cell_type": "code",
   "execution_count": 15,
   "outputs": [
    {
     "name": "stdout",
     "output_type": "stream",
     "text": [
      "naive loss: 2.324531e+00 computed in 0.309879s\n",
      "vectorized loss: 2.324531e+00 computed in 0.002995s\n",
      "Loss difference: 0.000000\n",
      "Gradient difference: 0.000000\n"
     ]
    }
   ],
   "source": [
    "# Now that we have a naive implementation of the softmax loss function and its gradient,\n",
    "# implement a vectorized version in softmax_loss_vectorized.\n",
    "# The two versions should compute the same results, but the vectorized version should be much faster.\n",
    "tic = time.time()\n",
    "loss_naive, grad_naive = softmax_loss_naive(W, X_dev, y_dev, 0.000005)\n",
    "toc = time.time()\n",
    "print('naive loss: %e computed in %fs' % (loss_naive, toc - tic))\n",
    "\n",
    "from src.classifiers.softmax import softmax_loss_vectorized\n",
    "tic = time.time()\n",
    "loss_vectorized, grad_vectorized = softmax_loss_vectorized(W, X_dev, y_dev, 0.000005)\n",
    "toc = time.time()\n",
    "print('vectorized loss: %e computed in %fs' % (loss_vectorized, toc - tic))\n",
    "\n",
    "# As we did for the SVM, we use the Frobenius norm to compare the two versions of the gradient.\n",
    "grad_difference = np.linalg.norm(grad_naive - grad_vectorized, ord='fro')\n",
    "print('Loss difference: %f' % np.abs(loss_naive - loss_vectorized))\n",
    "print('Gradient difference: %f' % grad_difference)"
   ],
   "metadata": {
    "collapsed": false,
    "ExecuteTime": {
     "end_time": "2023-06-03T09:17:29.551631Z",
     "start_time": "2023-06-03T09:17:29.176585800Z"
    }
   }
  },
  {
   "cell_type": "code",
   "execution_count": 16,
   "outputs": [],
   "source": [
    "try:\n",
    "    from tqdm.notebook import tqdm_notebook\n",
    "except ModuleNotFoundError:\n",
    "    !pip install tqdm"
   ],
   "metadata": {
    "collapsed": false,
    "ExecuteTime": {
     "end_time": "2023-06-03T09:19:46.769086100Z",
     "start_time": "2023-06-03T09:19:40.726410800Z"
    }
   }
  },
  {
   "cell_type": "code",
   "execution_count": 18,
   "outputs": [
    {
     "data": {
      "text/plain": "Learning rate:   0%|          | 0/5 [00:00<?, ?it/s]",
      "application/vnd.jupyter.widget-view+json": {
       "version_major": 2,
       "version_minor": 0,
       "model_id": "f2da1463a2004cdda0c8461f5ec92e75"
      }
     },
     "metadata": {},
     "output_type": "display_data"
    },
    {
     "name": "stdout",
     "output_type": "stream",
     "text": [
      "lr 1.000000e-07 reg 1.000000e+03 train accuracy: 0.261776 val accuracy: 0.260000\n",
      "lr 1.000000e-07 reg 5.000000e+03 train accuracy: 0.324939 val accuracy: 0.346000\n",
      "lr 1.000000e-07 reg 8.000000e+03 train accuracy: 0.348286 val accuracy: 0.360000\n",
      "lr 1.000000e-07 reg 1.000000e+04 train accuracy: 0.353857 val accuracy: 0.364000\n",
      "lr 1.000000e-07 reg 2.000000e+04 train accuracy: 0.332735 val accuracy: 0.344000\n",
      "lr 1.000000e-07 reg 2.500000e+04 train accuracy: 0.333102 val accuracy: 0.349000\n",
      "lr 2.500000e-07 reg 1.000000e+03 train accuracy: 0.338449 val accuracy: 0.335000\n",
      "lr 2.500000e-07 reg 5.000000e+03 train accuracy: 0.376122 val accuracy: 0.380000\n",
      "lr 2.500000e-07 reg 8.000000e+03 train accuracy: 0.361959 val accuracy: 0.371000\n",
      "lr 2.500000e-07 reg 1.000000e+04 train accuracy: 0.358163 val accuracy: 0.366000\n",
      "lr 2.500000e-07 reg 2.000000e+04 train accuracy: 0.332286 val accuracy: 0.339000\n",
      "lr 2.500000e-07 reg 2.500000e+04 train accuracy: 0.333714 val accuracy: 0.354000\n",
      "lr 1.000000e-06 reg 1.000000e+03 train accuracy: 0.396429 val accuracy: 0.407000\n",
      "lr 1.000000e-06 reg 5.000000e+03 train accuracy: 0.367755 val accuracy: 0.380000\n",
      "lr 1.000000e-06 reg 8.000000e+03 train accuracy: 0.358122 val accuracy: 0.363000\n",
      "lr 1.000000e-06 reg 1.000000e+04 train accuracy: 0.346592 val accuracy: 0.357000\n",
      "lr 1.000000e-06 reg 2.000000e+04 train accuracy: 0.325204 val accuracy: 0.331000\n",
      "lr 1.000000e-06 reg 2.500000e+04 train accuracy: 0.317735 val accuracy: 0.320000\n",
      "lr 5.000000e-06 reg 1.000000e+03 train accuracy: 0.364531 val accuracy: 0.373000\n",
      "lr 5.000000e-06 reg 5.000000e+03 train accuracy: 0.304082 val accuracy: 0.308000\n",
      "lr 5.000000e-06 reg 8.000000e+03 train accuracy: 0.287551 val accuracy: 0.294000\n",
      "lr 5.000000e-06 reg 1.000000e+04 train accuracy: 0.270612 val accuracy: 0.286000\n",
      "lr 5.000000e-06 reg 2.000000e+04 train accuracy: 0.218102 val accuracy: 0.218000\n",
      "lr 5.000000e-06 reg 2.500000e+04 train accuracy: 0.203408 val accuracy: 0.216000\n",
      "lr 1.000000e-05 reg 1.000000e+03 train accuracy: 0.240224 val accuracy: 0.227000\n",
      "lr 1.000000e-05 reg 5.000000e+03 train accuracy: 0.184694 val accuracy: 0.204000\n",
      "lr 1.000000e-05 reg 8.000000e+03 train accuracy: 0.183857 val accuracy: 0.189000\n",
      "lr 1.000000e-05 reg 1.000000e+04 train accuracy: 0.171633 val accuracy: 0.179000\n",
      "lr 1.000000e-05 reg 2.000000e+04 train accuracy: 0.165163 val accuracy: 0.176000\n",
      "lr 1.000000e-05 reg 2.500000e+04 train accuracy: 0.143000 val accuracy: 0.149000\n",
      "best validation accuracy achieved during cross-validation: 0.407000\n"
     ]
    }
   ],
   "source": [
    "# Use the validation set to tune hyperparameters (regularization strength and\n",
    "# learning rate). You should experiment with different ranges for the learning\n",
    "# rates and regularization strengths; if you are careful, you should be able to\n",
    "# get a classification accuracy of over 0.35 on the validation set.\n",
    "\n",
    "from src.classifiers import Softmax\n",
    "results = {}\n",
    "best_val = -1\n",
    "best_softmax = None\n",
    "\n",
    "################################################################################\n",
    "# TODO:                                                                        #\n",
    "# Use the validation set to set the learning rate and regularization strength. #\n",
    "# This should be identical to the validation that you did for the SVM; save    #\n",
    "# the best trained softmax classifier in best_softmax.                          #\n",
    "################################################################################\n",
    "\n",
    "# Provided as a reference. You may or may not want to change these hyperparameters\n",
    "learning_rates = [2.5e-7, 1e-7, 5e-6, 1e-6, 1e-5]\n",
    "regularization_strengths = [2.5e4, 2e4, 1e4, 8e3, 5e3, 1e3]\n",
    "\n",
    "# *****START OF YOUR CODE (DO NOT DELETE/MODIFY THIS LINE)*****\n",
    "\n",
    "for lr in tqdm_notebook(learning_rates, desc=\"Learning rate\"):\n",
    "    for reg in regularization_strengths:\n",
    "        softmax = Softmax()\n",
    "        softmax.train(\n",
    "            X=X_train, y=y_train, num_iters=1500,\n",
    "            learning_rate=lr, reg=reg\n",
    "        )\n",
    "\n",
    "        y_train_pred = softmax.predict(X=X_train)\n",
    "        y_val_pred = softmax.predict(X=X_val)\n",
    "\n",
    "        train_accuracy = np.mean(y_train_pred == y_train)\n",
    "        val_accuracy = np.mean(y_val_pred == y_val)\n",
    "\n",
    "        results[(lr, reg)] = (train_accuracy, val_accuracy)\n",
    "        if val_accuracy > best_val:\n",
    "            best_val = val_accuracy\n",
    "            best_softmax = softmax\n",
    "\n",
    "# *****END OF YOUR CODE (DO NOT DELETE/MODIFY THIS LINE)*****\n",
    "\n",
    "# Print out results.\n",
    "for lr, reg in sorted(results):\n",
    "    train_accuracy, val_accuracy = results[(lr, reg)]\n",
    "    print('lr %e reg %e train accuracy: %f val accuracy: %f' % (\n",
    "                lr, reg, train_accuracy, val_accuracy))\n",
    "\n",
    "print('best validation accuracy achieved during cross-validation: %f' % best_val)"
   ],
   "metadata": {
    "collapsed": false,
    "ExecuteTime": {
     "end_time": "2023-06-03T09:28:49.005325300Z",
     "start_time": "2023-06-03T09:25:09.256540200Z"
    }
   }
  },
  {
   "cell_type": "code",
   "execution_count": 23,
   "outputs": [
    {
     "name": "stdout",
     "output_type": "stream",
     "text": [
      "softmax on raw pixels final test set accuracy: 0.389000\n"
     ]
    }
   ],
   "source": [
    "# evaluate on test set\n",
    "# Evaluate the best softmax on the test set\n",
    "y_test_pred = best_softmax.predict(X_test)\n",
    "test_accuracy = np.mean(y_test == y_test_pred)\n",
    "print('softmax on raw pixels final test set accuracy: %f' % (test_accuracy, ))"
   ],
   "metadata": {
    "collapsed": false,
    "ExecuteTime": {
     "end_time": "2023-06-03T09:30:37.936376800Z",
     "start_time": "2023-06-03T09:30:37.813611800Z"
    }
   }
  },
  {
   "cell_type": "markdown",
   "source": [
    "**Inline Question 2** - *True or False*\n",
    "\n",
    "Suppose the overall training loss is defined as the sum of the per-datapoint loss over all training examples. It is possible to add a new datapoint to a training set that would leave the SVM loss unchanged, but this is not the case with the Softmax classifier loss.\n",
    "\n",
    "$\\textcolor{yellow}{\\textit Your Answer:}$</br>\n",
    "*Yes it's absolutely possible.*\n",
    "\n",
    "</br>$\\textcolor{yellow}{\\textit Your Explanation:}$</br>\n",
    "*SVM loss only cares about whether the margin $(max(0, s_j - s_i + delta)$ is satisfied or not, so if the new data point satisfies this margin the loss for that data-point will be 0. However, Softmax takes summation over all data points $-log(\\frac{\\exp(s_i)}{\\sum_{j=1}^C \\exp(s_j)})$, hence the softmax will change.*\n"
   ],
   "metadata": {
    "collapsed": false
   }
  },
  {
   "cell_type": "code",
   "execution_count": 24,
   "outputs": [
    {
     "data": {
      "text/plain": "<Figure size 1000x800 with 10 Axes>",
      "image/png": "[encoded data removed]"
     },
     "metadata": {},
     "output_type": "display_data"
    }
   ],
   "source": [
    "# Visualize the learned weights for each class\n",
    "w = best_softmax.W[:-1, :]  # strip out the bias\n",
    "w = w.reshape(32, 32, 3, 10)\n",
    "\n",
    "w_min, w_max = np.min(w), np.max(w)\n",
    "\n",
    "classes = ['plane', 'car', 'bird', 'cat', 'deer', 'dog', 'frog', 'horse', 'ship', 'truck']\n",
    "for i in range(10):\n",
    "    plt.subplot(2, 5, i + 1)  # 2 per row\n",
    "\n",
    "    # Rescale the weights to be between 0 and 255\n",
    "    w_img = 255.0 * (w[:, :, :, i].squeeze() - w_min) / (w_max - w_min)\n",
    "    plt.imshow(w_img.astype('uint8'))\n",
    "    plt.axis('off')\n",
    "    plt.title(classes[i])\n",
    "\n",
    "plt.show()"
   ],
   "metadata": {
    "collapsed": false,
    "ExecuteTime": {
     "end_time": "2023-06-03T09:30:41.243065200Z",
     "start_time": "2023-06-03T09:30:40.103943500Z"
    }
   }
  },
  {
   "cell_type": "code",
   "execution_count": null,
   "outputs": [],
   "source": [],
   "metadata": {
    "collapsed": false
   }
  }
 ],
 "metadata": {
  "kernelspec": {
   "display_name": "Python 3",
   "language": "python",
   "name": "python3"
  },
  "language_info": {
   "codemirror_mode": {
    "name": "ipython",
    "version": 2
   },
   "file_extension": ".py",
   "mimetype": "text/x-python",
   "name": "python",
   "nbconvert_exporter": "python",
   "pygments_lexer": "ipython2",
   "version": "2.7.6"
  }
 },
 "nbformat": 4,
 "nbformat_minor": 0
}
